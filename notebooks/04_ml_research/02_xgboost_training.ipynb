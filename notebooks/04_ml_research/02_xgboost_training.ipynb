{
 "cells": [
  {
   "cell_type": "markdown",
   "id": "251c3016",
   "metadata": {},
   "source": [
    "Setup and Path Definition"
   ]
  },
  {
   "cell_type": "code",
   "execution_count": 3,
   "id": "8812f8c2",
   "metadata": {},
   "outputs": [],
   "source": [
    "import os\n",
    "import pandas as pd\n",
    "import joblib\n",
    "import xgboost as xgb\n",
    "from sklearn.model_selection import train_test_split\n",
    "from sklearn.metrics import classification_report, accuracy_score\n",
    "\n",
    "# Define the project root directory by navigating up from the current notebook's location.\n",
    "# This assumes your notebook is in a subdirectory like 'notebooks/04_ml_research/'.\n",
    "# If your notebook is nested deeper, you may need to add more '..' parts.\n",
    "PROJECT_ROOT = os.path.abspath(os.path.join(os.getcwd(), '..', '..'))"
   ]
  },
  {
   "cell_type": "markdown",
   "id": "add79c1e",
   "metadata": {},
   "source": [
    "Load Data"
   ]
  },
  {
   "cell_type": "code",
   "execution_count": 4,
   "id": "ba8754ba",
   "metadata": {},
   "outputs": [],
   "source": [
    "# Define paths using the project root\n",
    "feature_file = os.path.join(PROJECT_ROOT, \"data/features/ml_feature_data.parquet\")\n",
    "model_output_dir = os.path.join(PROJECT_ROOT, \"qmind_quant/ml_models/models\")\n",
    "model_output_path = os.path.join(model_output_dir, \"xgboost_v1.joblib\")\n",
    "\n",
    "# Load the feature-rich data\n",
    "df = pd.read_parquet(feature_file)"
   ]
  },
  {
   "cell_type": "markdown",
   "id": "9c6c2adb",
   "metadata": {},
   "source": [
    "Define Features (X) and Target (y)"
   ]
  },
  {
   "cell_type": "code",
   "execution_count": 5,
   "id": "d6bd80d0",
   "metadata": {},
   "outputs": [],
   "source": [
    "features = [\n",
    "    'returns_1d', \n",
    "    'returns_5d', \n",
    "    'returns_21d', \n",
    "    'volatility_21d', \n",
    "    'rsi_14d'\n",
    "]\n",
    "\n",
    "X = df[features]\n",
    "y = df['target']"
   ]
  },
  {
   "cell_type": "markdown",
   "id": "458cb5c0",
   "metadata": {},
   "source": [
    "Split Data into Training and Testing Sets"
   ]
  },
  {
   "cell_type": "code",
   "execution_count": 6,
   "id": "84607224",
   "metadata": {},
   "outputs": [
    {
     "name": "stdout",
     "output_type": "stream",
     "text": [
      "Training set size: 448\n",
      "Testing set size: 112\n"
     ]
    }
   ],
   "source": [
    "train_size = int(0.8 * len(X))\n",
    "X_train, X_test = X[:train_size], X[train_size:]\n",
    "y_train, y_test = y[:train_size], y[train_size:]\n",
    "\n",
    "print(f\"Training set size: {len(X_train)}\")\n",
    "print(f\"Testing set size: {len(X_test)}\")"
   ]
  },
  {
   "cell_type": "markdown",
   "id": "13ecdea0",
   "metadata": {},
   "source": [
    "Train the XGBoost Model"
   ]
  },
  {
   "cell_type": "code",
   "execution_count": 7,
   "id": "44d2c35d",
   "metadata": {},
   "outputs": [
    {
     "name": "stdout",
     "output_type": "stream",
     "text": [
      "Training the XGBoost model...\n",
      "Model training complete.\n"
     ]
    },
    {
     "name": "stderr",
     "output_type": "stream",
     "text": [
      "/Users/enisyasaroglu/anaconda3/envs/qmind_quant_platform/lib/python3.10/site-packages/xgboost/training.py:183: UserWarning: [11:08:37] WARNING: /Users/runner/work/xgboost/xgboost/src/learner.cc:738: \n",
      "Parameters: { \"use_label_encoder\" } are not used.\n",
      "\n",
      "  bst.update(dtrain, iteration=i, fobj=obj)\n"
     ]
    }
   ],
   "source": [
    "# Initialize and train the XGBoost classifier\n",
    "# XGBoost has many parameters, but we'll start with some sensible defaults.\n",
    "model = xgb.XGBClassifier(\n",
    "    objective='binary:logistic',\n",
    "    n_estimators=100,\n",
    "    learning_rate=0.1,\n",
    "    max_depth=3,\n",
    "    use_label_encoder=False,\n",
    "    eval_metric='logloss',\n",
    "    random_state=42\n",
    ")\n",
    "\n",
    "print(\"Training the XGBoost model...\")\n",
    "model.fit(X_train, y_train)\n",
    "print(\"Model training complete.\")"
   ]
  },
  {
   "cell_type": "markdown",
   "id": "3ff6cef2",
   "metadata": {},
   "source": [
    "Evaluate the Model"
   ]
  },
  {
   "cell_type": "code",
   "execution_count": 8,
   "id": "a8097171",
   "metadata": {},
   "outputs": [
    {
     "name": "stdout",
     "output_type": "stream",
     "text": [
      "Model Accuracy on Test Set: 0.5804\n",
      "\n",
      "Classification Report:\n",
      "              precision    recall  f1-score   support\n",
      "\n",
      "        Down       0.39      0.33      0.36        40\n",
      "          Up       0.66      0.72      0.69        72\n",
      "\n",
      "    accuracy                           0.58       112\n",
      "   macro avg       0.53      0.52      0.52       112\n",
      "weighted avg       0.56      0.58      0.57       112\n",
      "\n"
     ]
    }
   ],
   "source": [
    "y_pred = model.predict(X_test)\n",
    "\n",
    "accuracy = accuracy_score(y_test, y_pred)\n",
    "print(f\"Model Accuracy on Test Set: {accuracy:.4f}\\n\")\n",
    "\n",
    "print(\"Classification Report:\")\n",
    "print(classification_report(y_test, y_pred, target_names=['Down', 'Up']))"
   ]
  },
  {
   "cell_type": "markdown",
   "id": "d26dea81",
   "metadata": {},
   "source": [
    "Save the Trained Model"
   ]
  },
  {
   "cell_type": "code",
   "execution_count": 9,
   "id": "0ac5824a",
   "metadata": {},
   "outputs": [
    {
     "name": "stdout",
     "output_type": "stream",
     "text": [
      "Model saved to: /Users/enisyasaroglu/qmind_quant_platform/qmind_quant/ml_models/models/xgboost_v1.joblib\n"
     ]
    }
   ],
   "source": [
    "os.makedirs(model_output_dir, exist_ok=True)\n",
    "joblib.dump(model, model_output_path)\n",
    "print(f\"Model saved to: {model_output_path}\")"
   ]
  }
 ],
 "metadata": {
  "kernelspec": {
   "display_name": "qmind_quant_platform",
   "language": "python",
   "name": "python3"
  },
  "language_info": {
   "codemirror_mode": {
    "name": "ipython",
    "version": 3
   },
   "file_extension": ".py",
   "mimetype": "text/x-python",
   "name": "python",
   "nbconvert_exporter": "python",
   "pygments_lexer": "ipython3",
   "version": "3.10.18"
  }
 },
 "nbformat": 4,
 "nbformat_minor": 5
}
