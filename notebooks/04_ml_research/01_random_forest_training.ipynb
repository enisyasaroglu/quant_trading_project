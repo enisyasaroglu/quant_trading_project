{
 "cells": [
  {
   "cell_type": "code",
   "execution_count": 5,
   "id": "b4bc7e86",
   "metadata": {},
   "outputs": [],
   "source": [
    "import os\n",
    "import pandas as pd\n",
    "import joblib\n",
    "from sklearn.ensemble import RandomForestClassifier\n",
    "from sklearn.model_selection import train_test_split\n",
    "from sklearn.metrics import classification_report, accuracy_score\n",
    "\n",
    "# A helper to find the project root\n",
    "PROJECT_ROOT = os.path.abspath(os.path.join(os.getcwd(), '..', '..', '..'))"
   ]
  },
  {
   "cell_type": "code",
   "execution_count": 6,
   "id": "610eab0e",
   "metadata": {},
   "outputs": [
    {
     "name": "stdout",
     "output_type": "stream",
     "text": [
      "<class 'pandas.core.frame.DataFrame'>\n",
      "RangeIndex: 560 entries, 0 to 559\n",
      "Data columns (total 13 columns):\n",
      " #   Column          Non-Null Count  Dtype         \n",
      "---  ------          --------------  -----         \n",
      " 0   date            560 non-null    datetime64[ns]\n",
      " 1   ticker          560 non-null    object        \n",
      " 2   open            560 non-null    float64       \n",
      " 3   high            560 non-null    float64       \n",
      " 4   low             560 non-null    float64       \n",
      " 5   close           560 non-null    float64       \n",
      " 6   volume          560 non-null    int64         \n",
      " 7   returns_1d      560 non-null    float64       \n",
      " 8   returns_5d      560 non-null    float64       \n",
      " 9   returns_21d     560 non-null    float64       \n",
      " 10  volatility_21d  560 non-null    float64       \n",
      " 11  rsi_14d         560 non-null    float64       \n",
      " 12  target          560 non-null    int64         \n",
      "dtypes: datetime64[ns](1), float64(9), int64(2), object(1)\n",
      "memory usage: 57.0+ KB\n"
     ]
    },
    {
     "data": {
      "text/html": [
       "<div>\n",
       "<style scoped>\n",
       "    .dataframe tbody tr th:only-of-type {\n",
       "        vertical-align: middle;\n",
       "    }\n",
       "\n",
       "    .dataframe tbody tr th {\n",
       "        vertical-align: top;\n",
       "    }\n",
       "\n",
       "    .dataframe thead th {\n",
       "        text-align: right;\n",
       "    }\n",
       "</style>\n",
       "<table border=\"1\" class=\"dataframe\">\n",
       "  <thead>\n",
       "    <tr style=\"text-align: right;\">\n",
       "      <th></th>\n",
       "      <th>date</th>\n",
       "      <th>ticker</th>\n",
       "      <th>open</th>\n",
       "      <th>high</th>\n",
       "      <th>low</th>\n",
       "      <th>close</th>\n",
       "      <th>volume</th>\n",
       "      <th>returns_1d</th>\n",
       "      <th>returns_5d</th>\n",
       "      <th>returns_21d</th>\n",
       "      <th>volatility_21d</th>\n",
       "      <th>rsi_14d</th>\n",
       "      <th>target</th>\n",
       "    </tr>\n",
       "  </thead>\n",
       "  <tbody>\n",
       "    <tr>\n",
       "      <th>0</th>\n",
       "      <td>2024-02-01</td>\n",
       "      <td>AAPL</td>\n",
       "      <td>182.445359</td>\n",
       "      <td>185.380501</td>\n",
       "      <td>182.276788</td>\n",
       "      <td>185.291260</td>\n",
       "      <td>64885400</td>\n",
       "      <td>0.013341</td>\n",
       "      <td>-0.037648</td>\n",
       "      <td>0.006572</td>\n",
       "      <td>0.013361</td>\n",
       "      <td>48.296784</td>\n",
       "      <td>1</td>\n",
       "    </tr>\n",
       "    <tr>\n",
       "      <th>1</th>\n",
       "      <td>2024-02-02</td>\n",
       "      <td>AAPL</td>\n",
       "      <td>178.350031</td>\n",
       "      <td>185.757320</td>\n",
       "      <td>177.745152</td>\n",
       "      <td>184.289749</td>\n",
       "      <td>102551700</td>\n",
       "      <td>-0.005405</td>\n",
       "      <td>-0.034144</td>\n",
       "      <td>0.008684</td>\n",
       "      <td>0.013307</td>\n",
       "      <td>46.465574</td>\n",
       "      <td>1</td>\n",
       "    </tr>\n",
       "    <tr>\n",
       "      <th>2</th>\n",
       "      <td>2024-02-05</td>\n",
       "      <td>AAPL</td>\n",
       "      <td>186.570441</td>\n",
       "      <td>187.661212</td>\n",
       "      <td>184.279836</td>\n",
       "      <td>186.104385</td>\n",
       "      <td>69668800</td>\n",
       "      <td>0.009847</td>\n",
       "      <td>-0.021123</td>\n",
       "      <td>0.031719</td>\n",
       "      <td>0.013097</td>\n",
       "      <td>50.153429</td>\n",
       "      <td>0</td>\n",
       "    </tr>\n",
       "    <tr>\n",
       "      <th>3</th>\n",
       "      <td>2024-02-06</td>\n",
       "      <td>AAPL</td>\n",
       "      <td>185.291252</td>\n",
       "      <td>187.720680</td>\n",
       "      <td>185.202011</td>\n",
       "      <td>187.710770</td>\n",
       "      <td>43490800</td>\n",
       "      <td>0.008632</td>\n",
       "      <td>0.006701</td>\n",
       "      <td>0.044817</td>\n",
       "      <td>0.013119</td>\n",
       "      <td>53.225256</td>\n",
       "      <td>0</td>\n",
       "    </tr>\n",
       "    <tr>\n",
       "      <th>4</th>\n",
       "      <td>2024-02-07</td>\n",
       "      <td>AAPL</td>\n",
       "      <td>189.039509</td>\n",
       "      <td>189.446070</td>\n",
       "      <td>187.026553</td>\n",
       "      <td>187.819839</td>\n",
       "      <td>53439000</td>\n",
       "      <td>0.000581</td>\n",
       "      <td>0.027169</td>\n",
       "      <td>0.020748</td>\n",
       "      <td>0.012112</td>\n",
       "      <td>53.435082</td>\n",
       "      <td>0</td>\n",
       "    </tr>\n",
       "  </tbody>\n",
       "</table>\n",
       "</div>"
      ],
      "text/plain": [
       "        date ticker        open        high         low       close  \\\n",
       "0 2024-02-01   AAPL  182.445359  185.380501  182.276788  185.291260   \n",
       "1 2024-02-02   AAPL  178.350031  185.757320  177.745152  184.289749   \n",
       "2 2024-02-05   AAPL  186.570441  187.661212  184.279836  186.104385   \n",
       "3 2024-02-06   AAPL  185.291252  187.720680  185.202011  187.710770   \n",
       "4 2024-02-07   AAPL  189.039509  189.446070  187.026553  187.819839   \n",
       "\n",
       "      volume  returns_1d  returns_5d  returns_21d  volatility_21d    rsi_14d  \\\n",
       "0   64885400    0.013341   -0.037648     0.006572        0.013361  48.296784   \n",
       "1  102551700   -0.005405   -0.034144     0.008684        0.013307  46.465574   \n",
       "2   69668800    0.009847   -0.021123     0.031719        0.013097  50.153429   \n",
       "3   43490800    0.008632    0.006701     0.044817        0.013119  53.225256   \n",
       "4   53439000    0.000581    0.027169     0.020748        0.012112  53.435082   \n",
       "\n",
       "   target  \n",
       "0       1  \n",
       "1       1  \n",
       "2       0  \n",
       "3       0  \n",
       "4       0  "
      ]
     },
     "execution_count": 6,
     "metadata": {},
     "output_type": "execute_result"
    }
   ],
   "source": [
    "# --- Configuration ---\n",
    "feature_file = os.path.join(PROJECT_ROOT, \"data/features/ml_feature_data.parquet\")\n",
    "model_output_dir = os.path.join(PROJECT_ROOT, \"qmind_quant/ml_models/models\")\n",
    "model_output_path = os.path.join(model_output_dir, \"random_forest_v1.joblib\")\n",
    "\n",
    "# Load the feature-rich data\n",
    "df = pd.read_parquet(feature_file)\n",
    "df.info()\n",
    "df.head()"
   ]
  },
  {
   "cell_type": "code",
   "execution_count": 7,
   "id": "52a78697",
   "metadata": {},
   "outputs": [
    {
     "name": "stdout",
     "output_type": "stream",
     "text": [
      "Feature matrix (X) shape: (560, 5)\n",
      "Target vector (y) shape: (560,)\n"
     ]
    }
   ],
   "source": [
    "# Define the features we want to use for prediction\n",
    "# We exclude non-feature columns like date, ticker, and OHLCV\n",
    "features = [\n",
    "    'returns_1d', \n",
    "    'returns_5d', \n",
    "    'returns_21d', \n",
    "    'volatility_21d', \n",
    "    'rsi_14d'\n",
    "]\n",
    "\n",
    "X = df[features]\n",
    "y = df['target']\n",
    "\n",
    "print(\"Feature matrix (X) shape:\", X.shape)\n",
    "print(\"Target vector (y) shape:\", y.shape)"
   ]
  },
  {
   "cell_type": "code",
   "execution_count": 8,
   "id": "971b765e",
   "metadata": {},
   "outputs": [
    {
     "name": "stdout",
     "output_type": "stream",
     "text": [
      "Training set size: 448\n",
      "Testing set size: 112\n"
     ]
    }
   ],
   "source": [
    "# We'll use 80% of the data for training and 20% for testing\n",
    "train_size = int(0.8 * len(X))\n",
    "X_train, X_test = X[:train_size], X[train_size:]\n",
    "y_train, y_test = y[:train_size], y[train_size:]\n",
    "\n",
    "print(f\"Training set size: {len(X_train)}\")\n",
    "print(f\"Testing set size: {len(X_test)}\")"
   ]
  },
  {
   "cell_type": "code",
   "execution_count": 9,
   "id": "2c0d2adb",
   "metadata": {},
   "outputs": [
    {
     "name": "stdout",
     "output_type": "stream",
     "text": [
      "Training the model...\n",
      "Model training complete.\n"
     ]
    }
   ],
   "source": [
    "# Initialize and train the classifier\n",
    "# n_estimators is the number of trees in the forest\n",
    "# random_state ensures our results are reproducible\n",
    "model = RandomForestClassifier(n_estimators=100, random_state=42, n_jobs=-1)\n",
    "\n",
    "print(\"Training the model...\")\n",
    "model.fit(X_train, y_train)\n",
    "print(\"Model training complete.\")"
   ]
  },
  {
   "cell_type": "code",
   "execution_count": 10,
   "id": "75fb8d3f",
   "metadata": {},
   "outputs": [
    {
     "name": "stdout",
     "output_type": "stream",
     "text": [
      "Model Accuracy on Test Set: 0.5714\n",
      "\n",
      "Classification Report:\n",
      "              precision    recall  f1-score   support\n",
      "\n",
      "        Down       0.41      0.47      0.44        40\n",
      "          Up       0.68      0.62      0.65        72\n",
      "\n",
      "    accuracy                           0.57       112\n",
      "   macro avg       0.55      0.55      0.55       112\n",
      "weighted avg       0.59      0.57      0.58       112\n",
      "\n"
     ]
    }
   ],
   "source": [
    "# Make predictions on the test set\n",
    "y_pred = model.predict(X_test)\n",
    "\n",
    "# Evaluate the model's performance\n",
    "accuracy = accuracy_score(y_test, y_pred)\n",
    "print(f\"Model Accuracy on Test Set: {accuracy:.4f}\\n\")\n",
    "\n",
    "# Print a detailed classification report\n",
    "print(\"Classification Report:\")\n",
    "print(classification_report(y_test, y_pred, target_names=['Down', 'Up']))"
   ]
  },
  {
   "cell_type": "code",
   "execution_count": 11,
   "id": "4e0d3bf2",
   "metadata": {},
   "outputs": [
    {
     "name": "stdout",
     "output_type": "stream",
     "text": [
      "Model saved to: /Users/enisyasaroglu/qmind_quant_platform/qmind_quant/ml_models/models/random_forest_v1.joblib\n"
     ]
    }
   ],
   "source": [
    "# Ensure the output directory exists\n",
    "os.makedirs(model_output_dir, exist_ok=True)\n",
    "\n",
    "# Save the model\n",
    "joblib.dump(model, model_output_path)\n",
    "print(f\"Model saved to: {model_output_path}\")\n"
   ]
  }
 ],
 "metadata": {
  "kernelspec": {
   "display_name": "qmind_quant_platform",
   "language": "python",
   "name": "python3"
  },
  "language_info": {
   "codemirror_mode": {
    "name": "ipython",
    "version": 3
   },
   "file_extension": ".py",
   "mimetype": "text/x-python",
   "name": "python",
   "nbconvert_exporter": "python",
   "pygments_lexer": "ipython3",
   "version": "3.10.18"
  }
 },
 "nbformat": 4,
 "nbformat_minor": 5
}
